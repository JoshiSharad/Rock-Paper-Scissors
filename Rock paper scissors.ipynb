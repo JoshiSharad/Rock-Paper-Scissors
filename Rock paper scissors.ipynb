{
 "cells": [
  {
   "cell_type": "code",
   "execution_count": null,
   "metadata": {},
   "outputs": [],
   "source": [
    "import random\n",
    "def play():\n",
    "    \n",
    "    # Take choice from the user\n",
    "    choice=input('Rock(R), Paper(P), Scissors(S)??').lower()\n",
    "    \n",
    "    # Take choice from computer\n",
    "    computer= random.choice(['r','p','s'])\n",
    "    \n",
    "    # If game is tie\n",
    "    if choice==computer:\n",
    "        print('Its a Tie!!')\n",
    "    \n",
    "    # If you win\n",
    "    if win(choice,computer):\n",
    "        print('YOU WON !!')\n",
    "    else :\n",
    "        # If you lose\n",
    "        print('YOU LOST !!')\n",
    "\n",
    "# Define condition to win \n",
    "def win(player,opponent):\n",
    "    if (player=='r' and opponent=='s') or (player=='p' and opponent=='r') or (player=='s' and opponent=='p'):\n",
    "        return True\n",
    "    \n",
    "    \n",
    "    \n",
    "    "
   ]
  },
  {
   "cell_type": "code",
   "execution_count": null,
   "metadata": {},
   "outputs": [],
   "source": []
  },
  {
   "cell_type": "code",
   "execution_count": null,
   "metadata": {},
   "outputs": [],
   "source": []
  },
  {
   "cell_type": "code",
   "execution_count": null,
   "metadata": {},
   "outputs": [],
   "source": []
  },
  {
   "cell_type": "code",
   "execution_count": null,
   "metadata": {},
   "outputs": [],
   "source": []
  },
  {
   "cell_type": "code",
   "execution_count": null,
   "metadata": {},
   "outputs": [],
   "source": []
  }
 ],
 "metadata": {
  "kernelspec": {
   "display_name": "Python 3",
   "language": "python",
   "name": "python3"
  },
  "language_info": {
   "codemirror_mode": {
    "name": "ipython",
    "version": 3
   },
   "file_extension": ".py",
   "mimetype": "text/x-python",
   "name": "python",
   "nbconvert_exporter": "python",
   "pygments_lexer": "ipython3",
   "version": "3.8.5"
  }
 },
 "nbformat": 4,
 "nbformat_minor": 4
}
